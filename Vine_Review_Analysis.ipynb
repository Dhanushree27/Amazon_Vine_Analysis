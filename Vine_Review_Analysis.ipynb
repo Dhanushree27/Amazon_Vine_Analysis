{
  "nbformat": 4,
  "nbformat_minor": 0,
  "metadata": {
    "colab": {
      "name": "Vine_Review_Analysis.ipynb",
      "provenance": [],
      "authorship_tag": "ABX9TyOJm8thqsr9sz3RK1lpfgKY",
      "include_colab_link": true
    },
    "kernelspec": {
      "name": "python3",
      "display_name": "Python 3"
    },
    "language_info": {
      "name": "python"
    }
  },
  "cells": [
    {
      "cell_type": "markdown",
      "metadata": {
        "id": "view-in-github",
        "colab_type": "text"
      },
      "source": [
        "<a href=\"https://colab.research.google.com/github/Dhanushree27/Amazon_Vine_Analysis/blob/main/Vine_Review_Analysis.ipynb\" target=\"_parent\"><img src=\"https://colab.research.google.com/assets/colab-badge.svg\" alt=\"Open In Colab\"/></a>"
      ]
    },
    {
      "cell_type": "code",
      "execution_count": 1,
      "metadata": {
        "colab": {
          "base_uri": "https://localhost:8080/"
        },
        "id": "mIIjbPl69tHd",
        "outputId": "bf4143e4-5317-4ffa-ee58-fe6ab17d7cbd"
      },
      "outputs": [
        {
          "output_type": "stream",
          "name": "stdout",
          "text": [
            "\r0% [Working]\r            \rHit:1 https://cloud.r-project.org/bin/linux/ubuntu bionic-cran40/ InRelease\n",
            "\r0% [Connecting to archive.ubuntu.com] [Connecting to security.ubuntu.com] [Conn\r                                                                               \rIgn:2 https://developer.download.nvidia.com/compute/cuda/repos/ubuntu1804/x86_64  InRelease\n",
            "\r0% [Connecting to archive.ubuntu.com] [Connecting to security.ubuntu.com] [Conn\r0% [1 InRelease gpgv 3,626 B] [Connecting to archive.ubuntu.com] [Connecting to\r                                                                               \rIgn:3 https://developer.download.nvidia.com/compute/machine-learning/repos/ubuntu1804/x86_64  InRelease\n",
            "\r0% [1 InRelease gpgv 3,626 B] [Connecting to archive.ubuntu.com] [Connecting to\r                                                                               \rHit:4 https://developer.download.nvidia.com/compute/cuda/repos/ubuntu1804/x86_64  Release\n",
            "Hit:5 https://developer.download.nvidia.com/compute/machine-learning/repos/ubuntu1804/x86_64  Release\n",
            "Hit:6 http://ppa.launchpad.net/c2d4u.team/c2d4u4.0+/ubuntu bionic InRelease\n",
            "Hit:7 http://archive.ubuntu.com/ubuntu bionic InRelease\n",
            "Get:8 http://security.ubuntu.com/ubuntu bionic-security InRelease [88.7 kB]\n",
            "Get:9 http://archive.ubuntu.com/ubuntu bionic-updates InRelease [88.7 kB]\n",
            "Hit:10 http://ppa.launchpad.net/cran/libgit2/ubuntu bionic InRelease\n",
            "Hit:12 http://ppa.launchpad.net/deadsnakes/ppa/ubuntu bionic InRelease\n",
            "Get:14 http://archive.ubuntu.com/ubuntu bionic-backports InRelease [74.6 kB]\n",
            "Hit:15 http://ppa.launchpad.net/graphics-drivers/ppa/ubuntu bionic InRelease\n",
            "Get:16 http://archive.ubuntu.com/ubuntu bionic-updates/universe amd64 Packages [2,242 kB]\n",
            "Get:17 http://archive.ubuntu.com/ubuntu bionic-updates/main amd64 Packages [2,954 kB]\n",
            "Fetched 5,448 kB in 4s (1,435 kB/s)\n",
            "Reading package lists... Done\n"
          ]
        }
      ],
      "source": [
        "import os\n",
        "spark_version='spark-3.2.0'\n",
        "os.environ['SPARK_VERSION']=spark_version\n",
        "\n",
        "# Install Spark and Java\n",
        "!apt-get update\n",
        "!apt-get install openjdk-11-jdk-headless -qq > /dev/null\n",
        "!wget -q http://www.apache.org/dist/spark/$SPARK_VERSION/$SPARK_VERSION-bin-hadoop2.7.tgz\n",
        "!tar xf $SPARK_VERSION-bin-hadoop2.7.tgz\n",
        "!pip install -q findspark\n",
        "\n",
        "# Set Environment Variables\n",
        "import os\n",
        "os.environ[\"JAVA_HOME\"] = \"/usr/lib/jvm/java-11-openjdk-amd64\"\n",
        "os.environ[\"SPARK_HOME\"] = f\"/content/{spark_version}-bin-hadoop2.7\"\n",
        "\n",
        "# Start a SparkSession\n",
        "import findspark\n",
        "findspark.init()"
      ]
    },
    {
      "cell_type": "code",
      "source": [
        "# Start a Spark Session\n",
        "from pyspark.sql import SparkSession\n",
        "spark=SparkSession.builder.appName(\"Vine_Analysis\").getOrCreate()"
      ],
      "metadata": {
        "id": "Ms_PJAXP93EL"
      },
      "execution_count": 2,
      "outputs": []
    },
    {
      "cell_type": "code",
      "source": [
        "# Import the dataset\n",
        "from pyspark import SparkFiles\n",
        "url = \"https://s3.amazonaws.com/amazon-reviews-pds/tsv/amazon_reviews_us_Lawn_and_Garden_v1_00.tsv.gz\"\n",
        "spark.sparkContext.addFile(url)\n",
        "df = spark.read.option(\"encoding\", \"UTF-8\").csv(SparkFiles.get(\"amazon_reviews_us_Lawn_and_Garden_v1_00.tsv.gz\"), sep=\"\\t\", header=True, inferSchema=True)\n",
        "df.show(truncate=False)\n"
      ],
      "metadata": {
        "colab": {
          "base_uri": "https://localhost:8080/"
        },
        "id": "xMuXry2Q-JOX",
        "outputId": "e5a87153-cbd0-4614-96d7-4231b95b0ea2"
      },
      "execution_count": 3,
      "outputs": [
        {
          "output_type": "stream",
          "name": "stdout",
          "text": [
            "+-----------+-----------+--------------+----------+--------------+-------------------------------------------------------------------------------------------------------------------------------------------------------------+----------------+-----------+-------------+-----------+----+-----------------+-----------------------------------------------------------------+---------------------------------------------------------------------------------------------------------------------------------------------------------------------------------------------------------------------------------------------------------------------------------------------------------------------------------------------------------------------------------------------------------------------------------------------------------------------------------------------------------------------------------------------------------------------------------------------------------------------------------------------------------------------------------+-----------+\n",
            "|marketplace|customer_id|review_id     |product_id|product_parent|product_title                                                                                                                                                |product_category|star_rating|helpful_votes|total_votes|vine|verified_purchase|review_headline                                                  |review_body                                                                                                                                                                                                                                                                                                                                                                                                                                                                                                                                                                                                                                                                      |review_date|\n",
            "+-----------+-----------+--------------+----------+--------------+-------------------------------------------------------------------------------------------------------------------------------------------------------------+----------------+-----------+-------------+-----------+----+-----------------+-----------------------------------------------------------------+---------------------------------------------------------------------------------------------------------------------------------------------------------------------------------------------------------------------------------------------------------------------------------------------------------------------------------------------------------------------------------------------------------------------------------------------------------------------------------------------------------------------------------------------------------------------------------------------------------------------------------------------------------------------------------+-----------+\n",
            "|US         |32787517   |RED72VWWCOS7S |B008HDQYLQ|348668413     |Garden Weasel Garden Claw                                                                                                                                    |Lawn and Garden |1          |2            |8          |N   |Y                |One Star                                                         |I don't hate the product I hate the seller.                                                                                                                                                                                                                                                                                                                                                                                                                                                                                                                                                                                                                                      |2015-08-31 |\n",
            "|US         |16374060   |RZHWQ208LTEPV |B005OBZBD6|264704759     |10 Foot Mc4 Solar Cable for Photovoltaic Solar Panels with Mc4 Solar Connector Cable 10 Feet Long and Mc4 Connectors At Each End.                            |Lawn and Garden |5          |0            |0          |N   |Y                |Five Stars                                                       |worked great                                                                                                                                                                                                                                                                                                                                                                                                                                                                                                                                                                                                                                                                     |2015-08-31 |\n",
            "|US         |9984817    |R37LBC3XAVLYOO|B00RQL8U2G|95173602      |GE String A Long 100 Count Indoor / Outdoor Mini Clear White Holiday Lights Set on Green Wire (2 Pack)                                                       |Lawn and Garden |5          |4            |5          |N   |Y                |just what i needed it to be. high quality ...                    |just what i needed it to be.  high quality light string.  We use it daily on some of our trees and they last about 6 months of daily use.                                                                                                                                                                                                                                                                                                                                                                                                                                                                                                                                        |2015-08-31 |\n",
            "|US         |12635190   |R3L7XJMA0MVJWC|B0081SBO4Y|835659279     |Key Pair Lawn With Indak Key Switch For Mtd Kohler Briggs Husqvarna Roper Ayp                                                                                |Lawn and Garden |5          |0            |0          |N   |Y                |Keys                                                             |Needed replacement. Thanks.                                                                                                                                                                                                                                                                                                                                                                                                                                                                                                                                                                                                                                                      |2015-08-31 |\n",
            "|US         |43905102   |R2I2GHSI7T1UBN|B008E6OK3U|539243347     |Zodiac R0502300 Large Collar with O-Ring Replacement for Select Zodiac Nature2 Water Sanitizer                                                               |Lawn and Garden |1          |5            |6          |N   |Y                |Too expensive                                                    |Assuming you don't need the plastic cap, the gasket can easily be replaced by standard o ring dash 344 and liberal application of lube.  I purchased a pack of 25 o rings for $18.                                                                                                                                                                                                                                                                                                                                                                                                                                                                                               |2015-08-31 |\n",
            "|US         |52596997   |R2GFFKHK4I6VMX|B00W6NTULY|337446474     |Hirts Gardens Sweet Bay Laurel Herb Plant Laurus Nobilis Clay Pot, 6\"                                                                                        |Lawn and Garden |5          |0            |0          |N   |Y                |Nice                                                             |Beautifully packaged. Fast shipping. Nice healthy plant. Very happy with purchase!                                                                                                                                                                                                                                                                                                                                                                                                                                                                                                                                                                                               |2015-08-31 |\n",
            "|US         |43871104   |R1R0UDX2XAN1S4|B00GXUMYKA|468857193     |AGPtEK 12 PCS Smokeless Waterproof Floating LED Tealight Candle Wedding Holiday Christmas Xmas Party Decoration Floral Flameless-Cool White/Warm White/Yellow|Lawn and Garden |4          |0            |0          |N   |Y                |These were pretty awesome im giving 4 star because one didnt work|These were pretty awesome  im giving 4 star because one didnt work.                                                                                                                                                                                                                                                                                                                                                                                                                                                                                                                                                                                                              |2015-08-31 |\n",
            "|US         |11346008   |R22C8FMBSTFRY8|B005EIX8JS|125753094     |Design Toscano Easter Island Moai Monolith Sculpture                                                                                                         |Lawn and Garden |5          |2            |2          |N   |Y                |Kids love it. WIsh it was a little heavier maybe.                |Its in the center of my landscaping overlooking the pool from behind above my waterfall feature and above my 8 foot palms.  Wife think it looks funny - but my elementary age kids love it - especially since they relate to the Night of the Museum movie trilogy. But i think size wise its a good size realtive to my pool and in scale to compare to the real deal.  Its a solid 4 feet tall!.  It looks great - and fairly light ~35-40lbs.  I was able to carry it by myself.<br /><br />My only concern: it might tip over duiring the windy days...as i have it atop of my mulch so its a little wobbly. Wish there was a place to anchor it down - ideally with a stake.|2015-08-31 |\n",
            "|US         |49206471   |R118NNIQ75XPGO|B000HJBKMQ|834273114     |TERRO T300 Liquid Ant Baits - 6 Pack                                                                                                                         |Lawn and Garden |3          |0            |0          |N   |Y                |A little messy                                                   |The ants were attracted to it, but it was a little messy and I spilled some on the counter. I wish the opening would not allow for the liquid to pour out so easily. After several days there were still ants so it did not get rid of all of them.                                                                                                                                                                                                                                                                                                                                                                                                                              |2015-08-31 |\n",
            "|US         |37596267   |R30HYXHZQ49621|B004LY59V6|612086079     |BLACK+DECKER LBXR20 20V MAX 1.5Ah Lithium Ion Tool Battery                                                                                                   |Lawn and Garden |2          |0            |0          |N   |Y                |Does not hold a charge for very long                             |This is advertised to hold a one hour charge. I'm lucky to get 15 minutes out of a charge when I use it in my B&D string trimmer.                                                                                                                                                                                                                                                                                                                                                                                                                                                                                                                                                |2015-08-31 |\n",
            "|US         |31554283   |R3EMLKY0GF1E90|B00CAVM85M|280334010     |Reach 'n Spray Pest Control Spray by Bosque                                                                                                                  |Lawn and Garden |5          |0            |0          |N   |Y                |Five Stars                                                       |Well made product that preformed better than expected. I was very pleased!!!                                                                                                                                                                                                                                                                                                                                                                                                                                                                                                                                                                                                     |2015-08-31 |\n",
            "|US         |43211735   |R23BX7EGJMGQJR|B00DP6X1LG|233116679     |Puro-Kleen Ultra-Guard Premium Pond & Aquarium Filter Media 12 inches x 6 Feet                                                                               |Lawn and Garden |5          |1            |2          |N   |Y                |It's easy to cut and seems substantial                           |I used this for a fountain filter.  It's easy to cut and seems substantial.  Time will tell if it lasts, but so far it's working well.                                                                                                                                                                                                                                                                                                                                                                                                                                                                                                                                           |2015-08-31 |\n",
            "|US         |25705116   |R2Z4B6SDEAZF6E|B00025H2PY|592807498     |Diatomaceous Earth Food Grade 10 Lb                                                                                                                          |Lawn and Garden |5          |0            |0          |N   |Y                |Five Stars                                                       |Great stuff. Gets rid of my tummy bugs and real bugs outside/inside.                                                                                                                                                                                                                                                                                                                                                                                                                                                                                                                                                                                                             |2015-08-31 |\n",
            "|US         |47041108   |R35289PGJERP5J|B0079GHJXY|408290044     |Perky-Pet 312C Panorama Bird Feeder, Copper                                                                                                                  |Lawn and Garden |5          |0            |0          |N   |Y                |Five Stars                                                       |Very good quality                                                                                                                                                                                                                                                                                                                                                                                                                                                                                                                                                                                                                                                                |2015-08-31 |\n",
            "|US         |1534667    |R39BPRMDKKIZL2|B004HFJ762|404737140     |Crossbow Dow Specialty Herbicide                                                                                                                             |Lawn and Garden |1          |4            |6          |N   |Y                |Wrong Product- Not as Described or Depicted                      |This product was not the product made by Dow Agrosciences as described and shown in the picture. The EPA registration number is not the same as the product that i recieved, therefore my permit from the New York State Department of Environmental Conservation was null and void. I would not purchase this product again.                                                                                                                                                                                                                                                                                                                                                    |2015-08-31 |\n",
            "|US         |52287759   |R6WFPPBS1DZMG |B00004RAGL|773636542     |Apex REM 15 15-Foot Connector Hose Remnants, Colors May Vary                                                                                                 |Lawn and Garden |5          |0            |0          |N   |Y                |dehumidifier drain hose                                          |the hose worked well when hooked up the drain of a dehumidifier.                                                                                                                                                                                                                                                                                                                                                                                                                                                                                                                                                                                                                 |2015-08-31 |\n",
            "|US         |37010286   |RK72M0ZBV9YLS |B010PWBNNK|461072629     |Elucto Electric Bug Zapper Fly Swatter Zap Mosquito Zapper Best for Indoor and Outdoor Pest Control                                                          |Lawn and Garden |1          |3            |3          |N   |Y                |not easy it seems                                                |I haven't killed one fly yet, not easy it seems.                                                                                                                                                                                                                                                                                                                                                                                                                                                                                                                                                                                                                                 |2015-08-31 |\n",
            "|US         |30576559   |RX5G150AUWRDJ |B00T77AWY6|365662076     |Ohuhu® 100 Ft Expandable Garden Hose with Brass Connector & Spray Nozzle                                                                                     |Lawn and Garden |1          |0            |0          |N   |Y                |Five Stars                                                       |I m very disappointed,  the hose broke after few weeks and I have tape on it                                                                                                                                                                                                                                                                                                                                                                                                                                                                                                                                                                                                     |2015-08-31 |\n",
            "|US         |10291713   |R1TMSZWIT21A31|B000UJH6HQ|228393894     |Toro 53746 Drip Battery Operated Hose End Timer                                                                                                              |Lawn and Garden |3          |1            |2          |N   |Y                |Could be better                                                  |this is the fourth one I bought. I use them with my rain barrel drip system to water my garden and they work well but seem to only last for about 1 year to maybe 18 months. that's why only 3 stars. I have two drip systems so I have replaced them both now. It is the only timer that I have found that works with a gravity system (no water pressure). that is why I keep buying them. I wish the quality was a little better and they lasted longer.                                                                                                                                                                                                                      |2015-08-31 |\n",
            "|US         |50656780   |R2FURVPW763CIM|B000HJBKMQ|834273114     |TERRO T300 Liquid Ant Baits - 6 Pack                                                                                                                         |Lawn and Garden |5          |0            |0          |N   |Y                |Sugar Ants are horrible                                          |Best thing you can get for those crazy Brazillian Sugar Ants that like to come inside every Spring. They love this. Just be sure to get it near their path, but where any pets cannot get to it.                                                                                                                                                                                                                                                                                                                                                                                                                                                                                 |2015-08-31 |\n",
            "+-----------+-----------+--------------+----------+--------------+-------------------------------------------------------------------------------------------------------------------------------------------------------------+----------------+-----------+-------------+-----------+----+-----------------+-----------------------------------------------------------------+---------------------------------------------------------------------------------------------------------------------------------------------------------------------------------------------------------------------------------------------------------------------------------------------------------------------------------------------------------------------------------------------------------------------------------------------------------------------------------------------------------------------------------------------------------------------------------------------------------------------------------------------------------------------------------+-----------+\n",
            "only showing top 20 rows\n",
            "\n"
          ]
        }
      ]
    },
    {
      "cell_type": "code",
      "source": [
        "vine_df=df.select(['review_id','star_rating','helpful_votes','total_votes','vine','verified_purchase'])\n",
        "vine_df.show(5)"
      ],
      "metadata": {
        "colab": {
          "base_uri": "https://localhost:8080/"
        },
        "id": "C1PBVJF3CdsE",
        "outputId": "f310cba1-03cc-4982-db06-fa60c59afb4d"
      },
      "execution_count": 4,
      "outputs": [
        {
          "output_type": "stream",
          "name": "stdout",
          "text": [
            "+--------------+-----------+-------------+-----------+----+-----------------+\n",
            "|     review_id|star_rating|helpful_votes|total_votes|vine|verified_purchase|\n",
            "+--------------+-----------+-------------+-----------+----+-----------------+\n",
            "| RED72VWWCOS7S|          1|            2|          8|   N|                Y|\n",
            "| RZHWQ208LTEPV|          5|            0|          0|   N|                Y|\n",
            "|R37LBC3XAVLYOO|          5|            4|          5|   N|                Y|\n",
            "|R3L7XJMA0MVJWC|          5|            0|          0|   N|                Y|\n",
            "|R2I2GHSI7T1UBN|          1|            5|          6|   N|                Y|\n",
            "+--------------+-----------+-------------+-----------+----+-----------------+\n",
            "only showing top 5 rows\n",
            "\n"
          ]
        }
      ]
    },
    {
      "cell_type": "code",
      "source": [
        "# Filter rows with total votes equal to or greater than 20, and %helpful votes is greater than or equal to 50\n",
        "filter_df=vine_df.filter('total_votes>=20 and helpful_votes/total_votes>=0.5')\n",
        "filter_df.show(5)"
      ],
      "metadata": {
        "colab": {
          "base_uri": "https://localhost:8080/"
        },
        "id": "3K0PCEIJDP8-",
        "outputId": "171c7887-091a-4403-b9f2-f307ddcb1957"
      },
      "execution_count": 5,
      "outputs": [
        {
          "output_type": "stream",
          "name": "stdout",
          "text": [
            "+--------------+-----------+-------------+-----------+----+-----------------+\n",
            "|     review_id|star_rating|helpful_votes|total_votes|vine|verified_purchase|\n",
            "+--------------+-----------+-------------+-----------+----+-----------------+\n",
            "| RQQ3KVTU5TJ4I|          5|           24|         29|   N|                Y|\n",
            "|R3FELXWV9T5CWE|          2|           22|         24|   N|                Y|\n",
            "| ROBYK6EZYK398|          5|           29|         30|   N|                Y|\n",
            "|R2YVBBR6NXIA4V|          5|           25|         28|   N|                N|\n",
            "|R2AVTBDIVG2AW4|          5|           26|         26|   N|                N|\n",
            "+--------------+-----------+-------------+-----------+----+-----------------+\n",
            "only showing top 5 rows\n",
            "\n"
          ]
        }
      ]
    },
    {
      "cell_type": "code",
      "source": [
        "# Filter rows with paid vine\n",
        "paid_df=filter_df.filter(filter_df['vine']=='Y')\n",
        "paid_df.show(5)"
      ],
      "metadata": {
        "colab": {
          "base_uri": "https://localhost:8080/"
        },
        "id": "olj3ieMEFdFj",
        "outputId": "6cda329f-077a-4e32-894c-b061cac16b1b"
      },
      "execution_count": 6,
      "outputs": [
        {
          "output_type": "stream",
          "name": "stdout",
          "text": [
            "+--------------+-----------+-------------+-----------+----+-----------------+\n",
            "|     review_id|star_rating|helpful_votes|total_votes|vine|verified_purchase|\n",
            "+--------------+-----------+-------------+-----------+----+-----------------+\n",
            "|R28DXTC3JQ9IY1|          4|           24|         26|   Y|                N|\n",
            "|R3AFZKLQXATHBU|          5|           44|         49|   Y|                N|\n",
            "|R2RUUF2JPJPC0E|          4|           20|         22|   Y|                N|\n",
            "| RFZ2WUH4248AB|          2|           26|         27|   Y|                N|\n",
            "|R1Q4LVHIFOWYFR|          5|           23|         28|   Y|                N|\n",
            "+--------------+-----------+-------------+-----------+----+-----------------+\n",
            "only showing top 5 rows\n",
            "\n"
          ]
        }
      ]
    },
    {
      "cell_type": "code",
      "source": [
        "# Filter rows with unpaid vine\n",
        "unpaid_df=filter_df.filter(filter_df['vine']=='N')\n",
        "unpaid_df.show(5)"
      ],
      "metadata": {
        "colab": {
          "base_uri": "https://localhost:8080/"
        },
        "id": "TErwuAyOGWHT",
        "outputId": "0cffc6c4-40da-45fd-aeca-0638948e255d"
      },
      "execution_count": 7,
      "outputs": [
        {
          "output_type": "stream",
          "name": "stdout",
          "text": [
            "+--------------+-----------+-------------+-----------+----+-----------------+\n",
            "|     review_id|star_rating|helpful_votes|total_votes|vine|verified_purchase|\n",
            "+--------------+-----------+-------------+-----------+----+-----------------+\n",
            "| RQQ3KVTU5TJ4I|          5|           24|         29|   N|                Y|\n",
            "|R3FELXWV9T5CWE|          2|           22|         24|   N|                Y|\n",
            "| ROBYK6EZYK398|          5|           29|         30|   N|                Y|\n",
            "|R2YVBBR6NXIA4V|          5|           25|         28|   N|                N|\n",
            "|R2AVTBDIVG2AW4|          5|           26|         26|   N|                N|\n",
            "+--------------+-----------+-------------+-----------+----+-----------------+\n",
            "only showing top 5 rows\n",
            "\n"
          ]
        }
      ]
    },
    {
      "cell_type": "code",
      "source": [
        "# Summarize the data\n",
        "from pyspark.sql.functions import round\n",
        "count_df=filter_df.groupby('vine').count().withColumnRenamed(\"count\",\"Total Votes\")\n",
        "star_df=filter_df.filter('star_rating=5').groupby('vine').count().withColumnRenamed(\"count\",\"5 Star Votes\")\n",
        "summary_df=star_df.join(count_df,on='vine',how=\"inner\")\n",
        "summary_df.withColumn(\"Percent Votes\",round(100*summary_df['5 Star Votes']/summary_df['Total Votes'],2)).show()"
      ],
      "metadata": {
        "colab": {
          "base_uri": "https://localhost:8080/"
        },
        "id": "2tDpKg_JDsxB",
        "outputId": "24b60674-7bc0-49a1-8dcc-f477742d9d31"
      },
      "execution_count": 17,
      "outputs": [
        {
          "output_type": "stream",
          "name": "stdout",
          "text": [
            "+----+------------+-----------+-------------+\n",
            "|vine|5 Star Votes|Total Votes|Percent Votes|\n",
            "+----+------------+-----------+-------------+\n",
            "|   Y|         176|        386|         45.6|\n",
            "|   N|       24026|      48717|        49.32|\n",
            "+----+------------+-----------+-------------+\n",
            "\n"
          ]
        }
      ]
    },
    {
      "cell_type": "code",
      "source": [
        "# Summarize the data - via functions\n",
        "from pyspark.sql.functions import when,col\n",
        "def summary(df):\n",
        "  total=df.count()\n",
        "  stars=df.filter('star_rating=5').count()\n",
        "  percent=100*stars/total\n",
        "  df=df.withColumn(\"type\",when(df['vine']=='Y',\"Paid\").otherwise(\"Unpaid\"))\n",
        "  type=df.select(col('type')).first()[0]\n",
        "  string=(f\"The total votes from {type} vine users was {total:,}\\n\"\n",
        "          f\"The total 5 star votes from {type} vine users was {stars:,}\\n\"\n",
        "          f\"The percentage of votes from {type} vine users was {percent:.2f} %\\n\")\n",
        "  print(string)"
      ],
      "metadata": {
        "id": "8tF_mCo3E72p"
      },
      "execution_count": 60,
      "outputs": []
    },
    {
      "cell_type": "code",
      "source": [
        "# Summary - Paid vine users\n",
        "summary(paid_df)"
      ],
      "metadata": {
        "colab": {
          "base_uri": "https://localhost:8080/"
        },
        "id": "gcyHJUlLJHky",
        "outputId": "eb1d4b00-0d70-452d-9a51-720b92a6e593"
      },
      "execution_count": 61,
      "outputs": [
        {
          "output_type": "stream",
          "name": "stdout",
          "text": [
            "The total votes from Paid vine users was 386\n",
            "The total 5 star votes from Paid vine users was 176\n",
            "The percentage of votes from Paid vine users was 45.60 %\n",
            "\n"
          ]
        }
      ]
    },
    {
      "cell_type": "code",
      "source": [
        "# Summary - UnPaid vine users\n",
        "summary(unpaid_df)"
      ],
      "metadata": {
        "colab": {
          "base_uri": "https://localhost:8080/"
        },
        "id": "OtRElGyNS6it",
        "outputId": "4f8d1806-68b8-4eae-fc13-65b27b6c1ea5"
      },
      "execution_count": 62,
      "outputs": [
        {
          "output_type": "stream",
          "name": "stdout",
          "text": [
            "The total votes from Unpaid vine users was 48,717\n",
            "The total 5 star votes from Unpaid vine users was 24,026\n",
            "The percentage of votes from Unpaid vine users was 49.32 %\n",
            "\n"
          ]
        }
      ]
    }
  ]
}